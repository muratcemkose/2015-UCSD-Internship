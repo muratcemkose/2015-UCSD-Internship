{
 "cells": [
  {
   "cell_type": "code",
   "execution_count": 9,
   "metadata": {
    "collapsed": false
   },
   "outputs": [],
   "source": [
    "import pandas as pd\n",
    "import matplotlib.pyplot as plt\n",
    "def importing(link):\n",
    "    df=pd.DataFrame.from_csv(link,sep='\\t')\n",
    "    PARTICIPANT_A=df.index\n",
    "    PARTICIPANT_A=pd.DataFrame(PARTICIPANT_A)\n",
    "    df.index=range(len(df.index))\n",
    "    df['PARTICIPANT_A']=PARTICIPANT_A\n",
    "    df.index=df.index.astype(str)\n",
    "    df=df.T.drop(['INTERACTION_PUBMED_ID','INTERACTION_DATA_SOURCE'])\n",
    "    df=df.T\n",
    "    return df\n",
    "\n",
    "def importing2(link):\n",
    "    df=pd.DataFrame.from_csv(link,sep='\\t')\n",
    "    df.PATHWAY_NAMES=df.INTERACTION_PUBMED_ID\n",
    "    PARTICIPANT_A=df.index\n",
    "    PARTICIPANT_A=pd.DataFrame(PARTICIPANT_A)\n",
    "    df.index=range(len(df.index))\n",
    "    df['PARTICIPANT_A']=PARTICIPANT_A\n",
    "    df.index=df.index.astype(str)\n",
    "    df=df.T.drop(['INTERACTION_PUBMED_ID','INTERACTION_DATA_SOURCE'])\n",
    "    df=df.T\n",
    "    return df\n",
    "\n",
    "def filt_genes(i,lst,db):\n",
    "    x=db[db.PARTICIPANT_A==lst[i]]\n",
    "    y=db[db.PARTICIPANT_B==lst[i]]\n",
    "    x=pd.concat([x,y])\n",
    "    return x\n",
    "\n",
    "def filt_only_genes(i,lst,db):\n",
    "    x=db[db.PARTICIPANT_A==lst[i]]\n",
    "    y=db[db.PARTICIPANT_B==lst[i]]\n",
    "    x=pd.concat([x,y])\n",
    "    y=pd.concat([x[x.PARTICIPANT_B==j] for j in lst if j!=lst[i]])\n",
    "    return y\n",
    "\n",
    "def fltr_togetonlygenes(df):\n",
    "    def fnc(i):\n",
    "        df.PARTICIPANT_B[i]='NaN'\n",
    "    def fnc1(i):\n",
    "        df.PARTICIPANT_A[i]='NaN'\n",
    "    [fnc(i) for i in range(len(df.PARTICIPANT_B)) if df.PARTICIPANT_B[i].isupper()!=True]\n",
    "    [fnc1(i) for i in range(len(df.PARTICIPANT_A)) if df.PARTICIPANT_A[i].isupper()!=True]\n",
    "    df=df[df.PARTICIPANT_A!='NaN']\n",
    "    df=df[df.PARTICIPANT_B!='NaN']\n",
    "    return df\n",
    "\n",
    "def sep_pths(i):\n",
    "    x=result.PATHWAY_NAMES[i].index(';')\n",
    "    result.PATHWAY_NAMES[i][:x]\n",
    "    result.PATHWAY_NAMES[i][x+1:]\n",
    "    y=result.irow(i)\n",
    "    y.PATHWAY_NAMES=result.PATHWAY_NAMES[i][x+1:]\n",
    "    result.irow(i).PATHWAY_NAMES=result.PATHWAY_NAMES[i][:8]\n",
    "    result.loc[str(int(result.index[-1])+1)]=y\n",
    "    \n"
   ]
  },
  {
   "cell_type": "code",
   "execution_count": 10,
   "metadata": {
    "collapsed": true
   },
   "outputs": [],
   "source": [
    "kegg=importing('/cellar/users/mkose/kegg.pathways.tmp')   # importing pathway data from different sources\n",
    "biogrid=importing2('/cellar/users/mkose/Downloads/interactions/Pathway Commons.7.BioGRID.EXTENDED_BINARY_SIF.hgnc.sif')\n",
    "hprd=importing2('/cellar/users/mkose/Downloads/interactions/Pathway Commons.7.HPRD.EXTENDED_BINARY_SIF.hgnc.sif')\n",
    "intact=importing2('/cellar/users/mkose/Downloads/interactions/Pathway Commons.7.IntAct.EXTENDED_BINARY_SIF.hgnc.sif')\n",
    "panther=importing('/cellar/users/mkose/Downloads/interactions/Pathway Commons.7.PANTHER Pathway.EXTENDED_BINARY_SIF.hgnc.sif')"
   ]
  },
  {
   "cell_type": "code",
   "execution_count": 11,
   "metadata": {
    "collapsed": false
   },
   "outputs": [],
   "source": [
    "gene_list1=['PTK2','VASP','TLN2','ZYX']  #gene lists we obtained from RNA-seq analysis.\n",
    "gene_list2=['ACTN1','PTK2','RAC1','TLN1','TLN2','VCL','ZYX']\n",
    "\n",
    "db_all=pd.concat([kegg,biogrid,hprd,intact,panther]) # getting all pathway data into one data frame.\n",
    "db_all=db_all.drop_duplicates()"
   ]
  },
  {
   "cell_type": "code",
   "execution_count": 12,
   "metadata": {
    "collapsed": false
   },
   "outputs": [
    {
     "data": {
      "text/plain": [
       "20293"
      ]
     },
     "execution_count": 12,
     "metadata": {},
     "output_type": "execute_result"
    }
   ],
   "source": [
    "result=pd.concat([filt_genes(i,gene_list2,db_all) for i in range(len(gene_list2))]) # taking the rows which include genes in our list.\n",
    "result=result.drop_duplicates()\n",
    "result=result[~result.PATHWAY_NAMES.isnull()]\n",
    "[sep_pths(i) for i in range(len(result)) if ';' in result.PATHWAY_NAMES[i]]\n",
    "i"
   ]
  },
  {
   "cell_type": "code",
   "execution_count": 13,
   "metadata": {
    "collapsed": false
   },
   "outputs": [],
   "source": [
    "pthwys=result.PATHWAY_NAMES.drop_duplicates() #the list of pathway names(or numbers)\n",
    "counts={} # creating the matris which has the names of pathways and the number of genes involved in this pathways.\n",
    "[counts.update({i:len([1 for j in range(len(gene_list2)) if True in list(result[result.PATHWAY_NAMES==pthwys[i]].PARTICIPANT_B==gene_list2[j]) or True in list(result[result.PATHWAY_NAMES==pthwys[i]].PARTICIPANT_A==gene_list2[j])])\n",
    "}) for i in range(len(pthwys))] # \n",
    "counts=pd.DataFrame(counts,index=['counts'])\n",
    "counts=counts.T\n",
    "counts.index=pthwys.values \n",
    "counts=counts.drop('BIOGRID:')\n",
    "counts=counts.sort('counts')\n",
    "pathway_data=result[result.PATHWAY_NAMES==counts.index[-1]] #taking the rows which include the patway that has most number of genes.\n",
    "#pathway_data=pathway_data[pathway_data.INTERACTION_TYPE=='interacts-with']\n"
   ]
  },
  {
   "cell_type": "code",
   "execution_count": 6,
   "metadata": {
    "collapsed": false
   },
   "outputs": [
    {
     "data": {
      "text/plain": [
       "[None]"
      ]
     },
     "execution_count": 6,
     "metadata": {},
     "output_type": "execute_result"
    }
   ],
   "source": [
    "# removing the genes which are not in the pathway\n",
    "[ gene_list2.remove(i) for i in gene_list2 if not i in list(pathway_data.PARTICIPANT_A) and not i in list(pathway_data.PARTICIPANT_B)]"
   ]
  },
  {
   "cell_type": "code",
   "execution_count": 7,
   "metadata": {
    "collapsed": true
   },
   "outputs": [
    {
     "ename": "ConnectionError",
     "evalue": "('Connection aborted.', error(111, 'Connection refused'))",
     "output_type": "error",
     "traceback": [
      "\u001b[1;31m---------------------------------------------------------------------------\u001b[0m",
      "\u001b[1;31mConnectionError\u001b[0m                           Traceback (most recent call last)",
      "\u001b[1;32m<ipython-input-7-38a69cb26996>\u001b[0m in \u001b[0;36m<module>\u001b[1;34m()\u001b[0m\n\u001b[0;32m      4\u001b[0m \u001b[1;32mfrom\u001b[0m \u001b[0mIPython\u001b[0m\u001b[1;33m.\u001b[0m\u001b[0mdisplay\u001b[0m \u001b[1;32mimport\u001b[0m \u001b[0mImage\u001b[0m\u001b[1;33m\u001b[0m\u001b[0m\n\u001b[0;32m      5\u001b[0m \u001b[1;32mimport\u001b[0m \u001b[0mnetworkx\u001b[0m \u001b[1;32mas\u001b[0m \u001b[0mnx\u001b[0m\u001b[1;33m\u001b[0m\u001b[0m\n\u001b[1;32m----> 6\u001b[1;33m \u001b[0mcy\u001b[0m \u001b[1;33m=\u001b[0m \u001b[0mCyRestClient\u001b[0m\u001b[1;33m(\u001b[0m\u001b[1;33m)\u001b[0m\u001b[1;33m\u001b[0m\u001b[0m\n\u001b[0m\u001b[0;32m      7\u001b[0m \u001b[1;33m\u001b[0m\u001b[0m\n\u001b[0;32m      8\u001b[0m \u001b[0mcy\u001b[0m\u001b[1;33m.\u001b[0m\u001b[0msession\u001b[0m\u001b[1;33m.\u001b[0m\u001b[0mdelete\u001b[0m\u001b[1;33m(\u001b[0m\u001b[1;33m)\u001b[0m \u001b[1;31m#here we deleting current sessions so be careful if you have a session you working with delete here or save it.\u001b[0m\u001b[1;33m\u001b[0m\u001b[0m\n",
      "\u001b[1;32m/cellar/users/mkose/anaconda/lib/python2.7/site-packages/py2cytoscape-0.4.4-py2.7.egg/py2cytoscape/data/cyrest_client.pyc\u001b[0m in \u001b[0;36m__init__\u001b[1;34m(self, ip, port, version)\u001b[0m\n\u001b[0;32m     16\u001b[0m         \u001b[0mself\u001b[0m\u001b[1;33m.\u001b[0m\u001b[0m__url\u001b[0m \u001b[1;33m=\u001b[0m \u001b[1;34m'http://'\u001b[0m \u001b[1;33m+\u001b[0m \u001b[0mip\u001b[0m \u001b[1;33m+\u001b[0m \u001b[1;34m':'\u001b[0m \u001b[1;33m+\u001b[0m \u001b[0mstr\u001b[0m\u001b[1;33m(\u001b[0m\u001b[0mport\u001b[0m\u001b[1;33m)\u001b[0m \u001b[1;33m+\u001b[0m \u001b[1;34m'/'\u001b[0m \u001b[1;33m+\u001b[0m \u001b[0mversion\u001b[0m \u001b[1;33m+\u001b[0m \u001b[1;34m'/'\u001b[0m\u001b[1;33m\u001b[0m\u001b[0m\n\u001b[0;32m     17\u001b[0m         \u001b[0mself\u001b[0m\u001b[1;33m.\u001b[0m\u001b[0mnetwork\u001b[0m \u001b[1;33m=\u001b[0m \u001b[0mNetworkClient\u001b[0m\u001b[1;33m(\u001b[0m\u001b[0mself\u001b[0m\u001b[1;33m.\u001b[0m\u001b[0m__url\u001b[0m\u001b[1;33m)\u001b[0m\u001b[1;33m\u001b[0m\u001b[0m\n\u001b[1;32m---> 18\u001b[1;33m         \u001b[0mself\u001b[0m\u001b[1;33m.\u001b[0m\u001b[0mstyle\u001b[0m \u001b[1;33m=\u001b[0m \u001b[0mStyleClient\u001b[0m\u001b[1;33m(\u001b[0m\u001b[0mself\u001b[0m\u001b[1;33m.\u001b[0m\u001b[0m__url\u001b[0m\u001b[1;33m)\u001b[0m\u001b[1;33m\u001b[0m\u001b[0m\n\u001b[0m\u001b[0;32m     19\u001b[0m         \u001b[0mself\u001b[0m\u001b[1;33m.\u001b[0m\u001b[0mlayout\u001b[0m \u001b[1;33m=\u001b[0m \u001b[0mLayoutClient\u001b[0m\u001b[1;33m(\u001b[0m\u001b[0mself\u001b[0m\u001b[1;33m.\u001b[0m\u001b[0m__url\u001b[0m\u001b[1;33m)\u001b[0m\u001b[1;33m\u001b[0m\u001b[0m\n\u001b[0;32m     20\u001b[0m         \u001b[0mself\u001b[0m\u001b[1;33m.\u001b[0m\u001b[0medgebundling\u001b[0m \u001b[1;33m=\u001b[0m \u001b[0mEdgeBundlingClient\u001b[0m\u001b[1;33m(\u001b[0m\u001b[0mself\u001b[0m\u001b[1;33m.\u001b[0m\u001b[0m__url\u001b[0m\u001b[1;33m)\u001b[0m\u001b[1;33m\u001b[0m\u001b[0m\n",
      "\u001b[1;32m/cellar/users/mkose/anaconda/lib/python2.7/site-packages/py2cytoscape-0.4.4-py2.7.egg/py2cytoscape/data/style_client.pyc\u001b[0m in \u001b[0;36m__init__\u001b[1;34m(self, url)\u001b[0m\n\u001b[0;32m     14\u001b[0m         \u001b[0mself\u001b[0m\u001b[1;33m.\u001b[0m\u001b[0m__url_apply\u001b[0m \u001b[1;33m=\u001b[0m \u001b[0murl\u001b[0m \u001b[1;33m+\u001b[0m \u001b[1;34m'apply/styles/'\u001b[0m\u001b[1;33m\u001b[0m\u001b[0m\n\u001b[0;32m     15\u001b[0m \u001b[1;33m\u001b[0m\u001b[0m\n\u001b[1;32m---> 16\u001b[1;33m         \u001b[0mself\u001b[0m\u001b[1;33m.\u001b[0m\u001b[0mvps\u001b[0m \u001b[1;33m=\u001b[0m \u001b[0mVisualProperties\u001b[0m\u001b[1;33m(\u001b[0m\u001b[0murl\u001b[0m\u001b[1;33m)\u001b[0m\u001b[1;33m\u001b[0m\u001b[0m\n\u001b[0m\u001b[0;32m     17\u001b[0m \u001b[1;33m\u001b[0m\u001b[0m\n\u001b[0;32m     18\u001b[0m     \u001b[1;32mdef\u001b[0m \u001b[0mcreate\u001b[0m\u001b[1;33m(\u001b[0m\u001b[0mself\u001b[0m\u001b[1;33m,\u001b[0m \u001b[0mname\u001b[0m\u001b[1;33m=\u001b[0m\u001b[0mNone\u001b[0m\u001b[1;33m,\u001b[0m \u001b[0moriginal_style\u001b[0m\u001b[1;33m=\u001b[0m\u001b[0mNone\u001b[0m\u001b[1;33m)\u001b[0m\u001b[1;33m:\u001b[0m\u001b[1;33m\u001b[0m\u001b[0m\n",
      "\u001b[1;32m/cellar/users/mkose/anaconda/lib/python2.7/site-packages/py2cytoscape-0.4.4-py2.7.egg/py2cytoscape/data/style_client.pyc\u001b[0m in \u001b[0;36m__init__\u001b[1;34m(self, url)\u001b[0m\n\u001b[0;32m     71\u001b[0m     \u001b[1;32mdef\u001b[0m \u001b[0m__init__\u001b[0m\u001b[1;33m(\u001b[0m\u001b[0mself\u001b[0m\u001b[1;33m,\u001b[0m \u001b[0murl\u001b[0m\u001b[1;33m)\u001b[0m\u001b[1;33m:\u001b[0m\u001b[1;33m\u001b[0m\u001b[0m\n\u001b[0;32m     72\u001b[0m         \u001b[0mself\u001b[0m\u001b[1;33m.\u001b[0m\u001b[0m__url\u001b[0m \u001b[1;33m=\u001b[0m \u001b[0murl\u001b[0m \u001b[1;33m+\u001b[0m \u001b[1;34m'styles/visualproperties'\u001b[0m\u001b[1;33m\u001b[0m\u001b[0m\n\u001b[1;32m---> 73\u001b[1;33m         \u001b[0mself\u001b[0m\u001b[1;33m.\u001b[0m\u001b[0m__convert_to_dict\u001b[0m\u001b[1;33m(\u001b[0m\u001b[1;33m)\u001b[0m\u001b[1;33m\u001b[0m\u001b[0m\n\u001b[0m\u001b[0;32m     74\u001b[0m \u001b[1;33m\u001b[0m\u001b[0m\n\u001b[0;32m     75\u001b[0m     \u001b[1;32mdef\u001b[0m \u001b[0m__convert_to_dict\u001b[0m\u001b[1;33m(\u001b[0m\u001b[0mself\u001b[0m\u001b[1;33m)\u001b[0m\u001b[1;33m:\u001b[0m\u001b[1;33m\u001b[0m\u001b[0m\n",
      "\u001b[1;32m/cellar/users/mkose/anaconda/lib/python2.7/site-packages/py2cytoscape-0.4.4-py2.7.egg/py2cytoscape/data/style_client.pyc\u001b[0m in \u001b[0;36m__convert_to_dict\u001b[1;34m(self)\u001b[0m\n\u001b[0;32m     74\u001b[0m \u001b[1;33m\u001b[0m\u001b[0m\n\u001b[0;32m     75\u001b[0m     \u001b[1;32mdef\u001b[0m \u001b[0m__convert_to_dict\u001b[0m\u001b[1;33m(\u001b[0m\u001b[0mself\u001b[0m\u001b[1;33m)\u001b[0m\u001b[1;33m:\u001b[0m\u001b[1;33m\u001b[0m\u001b[0m\n\u001b[1;32m---> 76\u001b[1;33m         \u001b[0mvps\u001b[0m \u001b[1;33m=\u001b[0m \u001b[0mrequests\u001b[0m\u001b[1;33m.\u001b[0m\u001b[0mget\u001b[0m\u001b[1;33m(\u001b[0m\u001b[0mself\u001b[0m\u001b[1;33m.\u001b[0m\u001b[0m__url\u001b[0m\u001b[1;33m)\u001b[0m\u001b[1;33m.\u001b[0m\u001b[0mjson\u001b[0m\u001b[1;33m(\u001b[0m\u001b[1;33m)\u001b[0m\u001b[1;33m\u001b[0m\u001b[0m\n\u001b[0m\u001b[0;32m     77\u001b[0m         \u001b[0mvp_dict\u001b[0m \u001b[1;33m=\u001b[0m \u001b[1;33m{\u001b[0m\u001b[1;33m}\u001b[0m\u001b[1;33m\u001b[0m\u001b[0m\n\u001b[0;32m     78\u001b[0m         \u001b[0mnode_vps\u001b[0m \u001b[1;33m=\u001b[0m \u001b[1;33m[\u001b[0m\u001b[1;33m]\u001b[0m\u001b[1;33m\u001b[0m\u001b[0m\n",
      "\u001b[1;32m/cellar/users/mkose/anaconda/lib/python2.7/site-packages/requests/api.pyc\u001b[0m in \u001b[0;36mget\u001b[1;34m(url, **kwargs)\u001b[0m\n\u001b[0;32m     66\u001b[0m \u001b[1;33m\u001b[0m\u001b[0m\n\u001b[0;32m     67\u001b[0m     \u001b[0mkwargs\u001b[0m\u001b[1;33m.\u001b[0m\u001b[0msetdefault\u001b[0m\u001b[1;33m(\u001b[0m\u001b[1;34m'allow_redirects'\u001b[0m\u001b[1;33m,\u001b[0m \u001b[0mTrue\u001b[0m\u001b[1;33m)\u001b[0m\u001b[1;33m\u001b[0m\u001b[0m\n\u001b[1;32m---> 68\u001b[1;33m     \u001b[1;32mreturn\u001b[0m \u001b[0mrequest\u001b[0m\u001b[1;33m(\u001b[0m\u001b[1;34m'get'\u001b[0m\u001b[1;33m,\u001b[0m \u001b[0murl\u001b[0m\u001b[1;33m,\u001b[0m \u001b[1;33m**\u001b[0m\u001b[0mkwargs\u001b[0m\u001b[1;33m)\u001b[0m\u001b[1;33m\u001b[0m\u001b[0m\n\u001b[0m\u001b[0;32m     69\u001b[0m \u001b[1;33m\u001b[0m\u001b[0m\n\u001b[0;32m     70\u001b[0m \u001b[1;33m\u001b[0m\u001b[0m\n",
      "\u001b[1;32m/cellar/users/mkose/anaconda/lib/python2.7/site-packages/requests/api.pyc\u001b[0m in \u001b[0;36mrequest\u001b[1;34m(method, url, **kwargs)\u001b[0m\n\u001b[0;32m     48\u001b[0m \u001b[1;33m\u001b[0m\u001b[0m\n\u001b[0;32m     49\u001b[0m     \u001b[0msession\u001b[0m \u001b[1;33m=\u001b[0m \u001b[0msessions\u001b[0m\u001b[1;33m.\u001b[0m\u001b[0mSession\u001b[0m\u001b[1;33m(\u001b[0m\u001b[1;33m)\u001b[0m\u001b[1;33m\u001b[0m\u001b[0m\n\u001b[1;32m---> 50\u001b[1;33m     \u001b[0mresponse\u001b[0m \u001b[1;33m=\u001b[0m \u001b[0msession\u001b[0m\u001b[1;33m.\u001b[0m\u001b[0mrequest\u001b[0m\u001b[1;33m(\u001b[0m\u001b[0mmethod\u001b[0m\u001b[1;33m=\u001b[0m\u001b[0mmethod\u001b[0m\u001b[1;33m,\u001b[0m \u001b[0murl\u001b[0m\u001b[1;33m=\u001b[0m\u001b[0murl\u001b[0m\u001b[1;33m,\u001b[0m \u001b[1;33m**\u001b[0m\u001b[0mkwargs\u001b[0m\u001b[1;33m)\u001b[0m\u001b[1;33m\u001b[0m\u001b[0m\n\u001b[0m\u001b[0;32m     51\u001b[0m     \u001b[1;31m# By explicitly closing the session, we avoid leaving sockets open which\u001b[0m\u001b[1;33m\u001b[0m\u001b[1;33m\u001b[0m\u001b[0m\n\u001b[0;32m     52\u001b[0m     \u001b[1;31m# can trigger a ResourceWarning in some cases, and look like a memory leak\u001b[0m\u001b[1;33m\u001b[0m\u001b[1;33m\u001b[0m\u001b[0m\n",
      "\u001b[1;32m/cellar/users/mkose/anaconda/lib/python2.7/site-packages/requests/sessions.pyc\u001b[0m in \u001b[0;36mrequest\u001b[1;34m(self, method, url, params, data, headers, cookies, files, auth, timeout, allow_redirects, proxies, hooks, stream, verify, cert, json)\u001b[0m\n\u001b[0;32m    462\u001b[0m         }\n\u001b[0;32m    463\u001b[0m         \u001b[0msend_kwargs\u001b[0m\u001b[1;33m.\u001b[0m\u001b[0mupdate\u001b[0m\u001b[1;33m(\u001b[0m\u001b[0msettings\u001b[0m\u001b[1;33m)\u001b[0m\u001b[1;33m\u001b[0m\u001b[0m\n\u001b[1;32m--> 464\u001b[1;33m         \u001b[0mresp\u001b[0m \u001b[1;33m=\u001b[0m \u001b[0mself\u001b[0m\u001b[1;33m.\u001b[0m\u001b[0msend\u001b[0m\u001b[1;33m(\u001b[0m\u001b[0mprep\u001b[0m\u001b[1;33m,\u001b[0m \u001b[1;33m**\u001b[0m\u001b[0msend_kwargs\u001b[0m\u001b[1;33m)\u001b[0m\u001b[1;33m\u001b[0m\u001b[0m\n\u001b[0m\u001b[0;32m    465\u001b[0m \u001b[1;33m\u001b[0m\u001b[0m\n\u001b[0;32m    466\u001b[0m         \u001b[1;32mreturn\u001b[0m \u001b[0mresp\u001b[0m\u001b[1;33m\u001b[0m\u001b[0m\n",
      "\u001b[1;32m/cellar/users/mkose/anaconda/lib/python2.7/site-packages/requests/sessions.pyc\u001b[0m in \u001b[0;36msend\u001b[1;34m(self, request, **kwargs)\u001b[0m\n\u001b[0;32m    574\u001b[0m \u001b[1;33m\u001b[0m\u001b[0m\n\u001b[0;32m    575\u001b[0m         \u001b[1;31m# Send the request\u001b[0m\u001b[1;33m\u001b[0m\u001b[1;33m\u001b[0m\u001b[0m\n\u001b[1;32m--> 576\u001b[1;33m         \u001b[0mr\u001b[0m \u001b[1;33m=\u001b[0m \u001b[0madapter\u001b[0m\u001b[1;33m.\u001b[0m\u001b[0msend\u001b[0m\u001b[1;33m(\u001b[0m\u001b[0mrequest\u001b[0m\u001b[1;33m,\u001b[0m \u001b[1;33m**\u001b[0m\u001b[0mkwargs\u001b[0m\u001b[1;33m)\u001b[0m\u001b[1;33m\u001b[0m\u001b[0m\n\u001b[0m\u001b[0;32m    577\u001b[0m \u001b[1;33m\u001b[0m\u001b[0m\n\u001b[0;32m    578\u001b[0m         \u001b[1;31m# Total elapsed time of the request (approximately)\u001b[0m\u001b[1;33m\u001b[0m\u001b[1;33m\u001b[0m\u001b[0m\n",
      "\u001b[1;32m/cellar/users/mkose/anaconda/lib/python2.7/site-packages/requests/adapters.pyc\u001b[0m in \u001b[0;36msend\u001b[1;34m(self, request, stream, timeout, verify, cert, proxies)\u001b[0m\n\u001b[0;32m    413\u001b[0m \u001b[1;33m\u001b[0m\u001b[0m\n\u001b[0;32m    414\u001b[0m         \u001b[1;32mexcept\u001b[0m \u001b[1;33m(\u001b[0m\u001b[0mProtocolError\u001b[0m\u001b[1;33m,\u001b[0m \u001b[0msocket\u001b[0m\u001b[1;33m.\u001b[0m\u001b[0merror\u001b[0m\u001b[1;33m)\u001b[0m \u001b[1;32mas\u001b[0m \u001b[0merr\u001b[0m\u001b[1;33m:\u001b[0m\u001b[1;33m\u001b[0m\u001b[0m\n\u001b[1;32m--> 415\u001b[1;33m             \u001b[1;32mraise\u001b[0m \u001b[0mConnectionError\u001b[0m\u001b[1;33m(\u001b[0m\u001b[0merr\u001b[0m\u001b[1;33m,\u001b[0m \u001b[0mrequest\u001b[0m\u001b[1;33m=\u001b[0m\u001b[0mrequest\u001b[0m\u001b[1;33m)\u001b[0m\u001b[1;33m\u001b[0m\u001b[0m\n\u001b[0m\u001b[0;32m    416\u001b[0m \u001b[1;33m\u001b[0m\u001b[0m\n\u001b[0;32m    417\u001b[0m         \u001b[1;32mexcept\u001b[0m \u001b[0mMaxRetryError\u001b[0m \u001b[1;32mas\u001b[0m \u001b[0me\u001b[0m\u001b[1;33m:\u001b[0m\u001b[1;33m\u001b[0m\u001b[0m\n",
      "\u001b[1;31mConnectionError\u001b[0m: ('Connection aborted.', error(111, 'Connection refused'))"
     ]
    }
   ],
   "source": [
    "# visulization of the pathway for Cytoscape\n",
    "from py2cytoscape.data.cyrest_client import CyRestClient\n",
    "from IPython.display import display\n",
    "from IPython.display import Image\n",
    "import networkx as nx \n",
    "cy = CyRestClient()\n",
    "\n",
    "cy.session.delete() #here we deleting current sessions so be careful if you have a session you working with delete here or save it.\n",
    "\n",
    "G=nx.Graph() #we are creating our network\n",
    "[G.add_edge(pathway_data.PARTICIPANT_A[i],pathway_data.PARTICIPANT_B[i]) for i in range(len(pathway_data))]#adding nodes and edges\n",
    "\n",
    "network=cy.network.create_from_networkx(G)#adding network to cytoscape\n",
    "cy.layout.apply(name='kamada-kawai', network=network)\n",
    "kv_pair = {} \n",
    "[kv_pair.update({i:'blue'}) for i in gene_list2] #assigning blue color to the genes we want\n",
    "style = cy.style.create('Nested Network Style')\n",
    "style.create_discrete_mapping(column='name',col_type='String',vp='NODE_FILL_COLOR', mappings=kv_pair)#changeing the color of the genes we want.\n",
    "\n",
    "cy.style.apply(style, network=network)\n",
    "result = cy.edgebundling.apply(network)\n",
    "network_png = network.get_png()\n",
    "Image(network_png) "
   ]
  },
  {
   "cell_type": "code",
   "execution_count": 8,
   "metadata": {
    "collapsed": true
   },
   "outputs": [],
   "source": [
    "# visulization of the pathway for networkx\n",
    "G=nx.Graph()#we are creating our network\n",
    "[G.add_edge(pathway_data.PARTICIPANT_A[i],pathway_data.PARTICIPANT_B[i]) for i in range(len(pathway_data))] #adding nodes and edges\n",
    "pos=nx.spring_layout(G)\n",
    "y=G.nodes()\n",
    "[y.remove(gene_list2[i]) for  i in range(len(gene_list2))]#removing the genes in the list\n",
    "nx.draw_networkx_nodes(G,pos,nodelist=y,node_color='y') #assigning color to the other genes \n",
    "nx.draw_networkx_nodes(G,pos,nodelist=gene_list2,node_color='b')#assignig color to the genes in the list\n",
    "nx.draw_networkx_edges(G,pos)\n",
    "nx.draw_networkx_labels(G,pos)\n",
    "plt.show()\n"
   ]
  },
  {
   "cell_type": "code",
   "execution_count": null,
   "metadata": {
    "collapsed": false,
    "scrolled": false
   },
   "outputs": [],
   "source": []
  },
  {
   "cell_type": "code",
   "execution_count": null,
   "metadata": {
    "collapsed": false,
    "scrolled": true
   },
   "outputs": [],
   "source": []
  },
  {
   "cell_type": "code",
   "execution_count": null,
   "metadata": {
    "collapsed": false
   },
   "outputs": [],
   "source": []
  },
  {
   "cell_type": "code",
   "execution_count": 33,
   "metadata": {
    "collapsed": false
   },
   "outputs": [],
   "source": [
    "#pathway_data.to_csv('/cellar/users/mkose/pathway_data.csv')"
   ]
  },
  {
   "cell_type": "code",
   "execution_count": null,
   "metadata": {
    "collapsed": true
   },
   "outputs": [],
   "source": []
  }
 ],
 "metadata": {
  "kernelspec": {
   "display_name": "Python 2",
   "language": "python",
   "name": "python2"
  },
  "language_info": {
   "codemirror_mode": {
    "name": "ipython",
    "version": 2
   },
   "file_extension": ".py",
   "mimetype": "text/x-python",
   "name": "python",
   "nbconvert_exporter": "python",
   "pygments_lexer": "ipython2",
   "version": "2.7.13"
  }
 },
 "nbformat": 4,
 "nbformat_minor": 0
}
