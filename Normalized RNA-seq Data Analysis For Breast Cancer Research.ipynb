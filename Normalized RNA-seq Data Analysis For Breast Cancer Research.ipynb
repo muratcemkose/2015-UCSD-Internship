{
 "cells": [
  {
   "cell_type": "code",
   "execution_count": 44,
   "metadata": {
    "collapsed": false
   },
   "outputs": [],
   "source": [
    "import pandas as pd\n",
    "import numpy as np\n",
    "import csv\n",
    "%matplotlib inline\n",
    "import matplotlib.pyplot as plt\n",
    "from scipy.stats import ttest_rel\n",
    "from scipy.stats import ttest_ind\n",
    "from scipy.stats import zscore\n",
    "import scipy.cluster.hierarchy as hier\n",
    "import seaborn as sns\n",
    "from lifelines import KaplanMeierFitter\n",
    "from lifelines import NelsonAalenFitter\n",
    "from lifelines import AalenAdditiveFitter, CoxPHFitter\n",
    "from lifelines.statistics import logrank_test\n",
    "from matplotlib.mlab import PCA as mlabPCA \n",
    "from scipy.cluster.vq import kmeans,vq\n",
    "from scipy.spatial.distance import cdist\n",
    "from sklearn.decomposition import PCA\n",
    "import pylab as pl\n",
    "\n",
    "\n",
    "kmf=KaplanMeierFitter()\n",
    "cf = CoxPHFitter()\n",
    "aaf = AalenAdditiveFitter(fit_intercept=False)\n",
    "\n",
    "\n",
    "def func_for_row(row,df1,df2): #function to copy rows\n",
    "    df1.loc[row]=df2.T[row]\n",
    "\n",
    "def func_for_col(col,df1,df2,j='default',i2='none'): #funtion to copy colums\n",
    "    \n",
    "    if i2=='none':\n",
    "        if j=='default':\n",
    "            df1[col]=df2[col]\n",
    "        else:\n",
    "            if j<10:\n",
    "                df1['clust'+'0'+str(j)+' '+col]=df2[col]\n",
    "            else:\n",
    "                df1['clust'+str(j)+' '+col]=df2[col]\n",
    "    else:\n",
    "        if j=='default':\n",
    "            df1[i2]=df2[col]\n",
    "        else:\n",
    "            if j<10:\n",
    "                df1['clust'+'0'+str(j)+' '+i2]=df2[col]\n",
    "            else:\n",
    "                df1['clust'+str(j)+' '+i2]=df2[col]\n",
    "            \n",
    "def filtering_genes(list1,df): #extracting genes that we want from the data frame\n",
    "    new_df=pd.DataFrame(df.head())\n",
    "    new_df=pd.DataFrame(index=new_df.T.index)\n",
    "    new_df=new_df.T\n",
    "    [func_for_row(i,new_df,df) for i in df.T if True in [True for j in list1 if j in i[0:len(j)]]]\n",
    "    return new_df\n",
    "\n",
    "def filtering_genes_faster(list1,df): #extracting genes that we want from the data frame\n",
    "    return df.loc[list1,:]\n",
    "\n",
    "def std_check(df): #eleminating the genes has std as 0\n",
    "    new_df=pd.DataFrame(index=df.index)\n",
    "    new_df=df\n",
    "    def fnc(i,df1,df2):\n",
    "        df1=df2.drop(i)\n",
    "    [fnc(i,new_df,df) for i in df.index if df.T[i].std()<= 0]\n",
    "    return new_df\n",
    "\n",
    "\n",
    "def ttest_normal(df): \n",
    "    tumor_indexes=[]\n",
    "    normal_indexes=[]\n",
    "    [normal_indexes.append(i) for i in df if i[13:15]=='11'] #taking  the samples which has normal data\n",
    "    [tumor_indexes.append(j) for j in df if j[13:15]=='01'] #taking  the samples which has tumor data\n",
    "    if len(normal_indexes)==0:\n",
    "        return 'there are no normal samples'\n",
    "    elif len(tumor_indexes)==0:\n",
    "        return 'there are no tumor samples'\n",
    "    #constracting a data frame of tumor samples\n",
    "    primary_tumor_data=pd.DataFrame(index=df.index) \n",
    "    [ func_for_col(i,primary_tumor_data,df) for i in tumor_indexes]\n",
    "    #constracting a data frame of normal samples\n",
    "    normal_data=pd.DataFrame(index=df.index)\n",
    "    [ func_for_col(i,normal_data,df) for i in normal_indexes]\n",
    "    \n",
    "    ttest_results={}\n",
    "    def testing1(i):# the fuction that apply ttest for each gene\n",
    "        gene_name=primary_tumor_data.index[i]\n",
    "    \n",
    "        x=primary_tumor_data.T[primary_tumor_data.index[i]].astype(float)   \n",
    "        y=normal_data.T[normal_data.index[i]].astype(float)    \n",
    "        r=ttest_ind(x,y,equal_var=False)\n",
    "        ttest_results.update({gene_name:list(r)})\n",
    "        \n",
    "    [ testing1(i) for i in range(0,primary_tumor_data.count()[1])]\n",
    "    results_table=pd.DataFrame(ttest_results, index=['t_score','p_value'])\n",
    "    results_table\n",
    "    return results_table\n",
    "    \n",
    "    \n",
    "def ttest_paired(df):\n",
    "    indexes=[]\n",
    "            # taking the samples which have both normal and tumor data\n",
    "    [ indexes.append([j for j in df.T.index if i[0:12] in j]) for i in df.T.index if i[13:15]=='11']\n",
    "    if len(indexes)==0:\n",
    "        print 'there are no normal samples'\n",
    "\n",
    "    #constructing a data frame of tumor samples that has also normal samples\n",
    "    primary_tumor_data=pd.DataFrame(index=df.index)\n",
    "    [func_for_col(indexes[i][0],primary_tumor_data,df) for i in range(len(indexes))]\n",
    "    \n",
    "    #constructing a data frame of normal samples\n",
    "    normal_data=pd.DataFrame(index=df.index)\n",
    "    [func_for_col(indexes[i][1],normal_data,df) for i in range(len(indexes))]\n",
    "\n",
    "    ttest_results={}\n",
    "    def testing2(i):# the fuction that apply ttest for each gene\n",
    "    \n",
    "        gene_name=primary_tumor_data.index[i]\n",
    "        x=primary_tumor_data.T[primary_tumor_data.index[i]].astype(float)  \n",
    "        y=normal_data.T[normal_data.index[i]].astype(float)\n",
    "        r=ttest_rel(x,y)\n",
    "        ttest_results.update({gene_name:list(r)})\n",
    "        \n",
    "    [ testing2(i) for i in range(0,primary_tumor_data.count()[1])]\n",
    "    results_table=pd.DataFrame(ttest_results, index=['t_score','p_value'])\n",
    "    return results_table\n",
    "\n",
    "def checking_p_value(ttest_df): #checking if p values of genes are less than 0.05/total gene number \n",
    "    significant_genes=[]\n",
    "    [significant_genes.append(i) for i in ttest_df if ttest_df[i][1]<0.05/len(ttest_df.T)]\n",
    "    return significant_genes\n",
    "\n",
    "def filtering_row_info(list1,df): #extracting necessary info rows from clinical data \n",
    "    new_df=pd.DataFrame(index=df.T.index)\n",
    "    new_df=new_df.T\n",
    "    [func_for_row(row,new_df,df) for row in df.T if True in [True for i in list1 if i in row]]\n",
    "    return new_df\n",
    "    \n",
    "def merging_rows(features_list,df):#merging rows to collect info from different rows to put into one row\n",
    "    all_merged_data=pd.DataFrame(index=df.T.index)\n",
    "    all_merged_data=all_merged_data.T\n",
    "    for x in features_list:\n",
    "        x_sum=[ df.T[i].fillna(' ')  for i in df.index if x in i]\n",
    "        x_sum1=x_sum[0]\n",
    "        for i in range(1,len(x_sum)):\n",
    "            x_sum1=x_sum1+x_sum[i]\n",
    "        x_sum=x_sum1\n",
    "        all_merged_data.loc[x]=x_sum\n",
    "    return all_merged_data\n",
    "\n",
    "def roman_to_int(df): #func to transform roman letters into intigers\n",
    "    def roman(word):\n",
    "        if type(word)==float or type(word)==int:\n",
    "            return word\n",
    "        elif 'stage iv' in str(word):\n",
    "            return 4\n",
    "        elif 'stage iii' in str(word):\n",
    "            return 3\n",
    "        elif 'stage ii' in str(word):\n",
    "            return 2\n",
    "        elif 'stage i' in str(word):\n",
    "            return 1\n",
    "        else:\n",
    "            return \n",
    "    df.loc['patient.stage_event.pathologic_stage']=[roman(i) for i in df.T['patient.stage_event.pathologic_stage']]\n",
    "    return df\n",
    "\n",
    "def filter_age(df): #filtering according to age, taking the ones below 75\n",
    "    new_df=pd.DataFrame(index=df.index)\n",
    "    [func_for_col(i,new_df,df)for i in df if int(df[i][0])<75]\n",
    "    return new_df\n",
    "\n",
    "def extracting_recep_data(df): #extracting receptor status data from several rows and forming as one row\n",
    "    receptor_data={} \n",
    "    [receptor_data.update({df.T.index[i]:1})for i in range(len(df.T)) if df.T['patient.breast_carcinoma_estrogen_receptor_status'][i]=='positive' or df.T['patient.breast_carcinoma_progesterone_receptor_status'][i]=='positive' and df.T['patient.lab_proc_her2_neu_immunohistochemistry_receptor_status'][i]=='positive']\n",
    "    [receptor_data.update({df.T.index[i]:2})for i in range(len(df.T)) if df.T['patient.breast_carcinoma_estrogen_receptor_status'][i]=='positive' or df.T['patient.breast_carcinoma_progesterone_receptor_status'][i]=='positive' and df.T['patient.lab_proc_her2_neu_immunohistochemistry_receptor_status'][i]=='negavite']\n",
    "    [receptor_data.update({df.T.index[i]:3})for i in range(len(df.T)) if df.T['patient.breast_carcinoma_estrogen_receptor_status'][i]=='negative' and df.T['patient.breast_carcinoma_progesterone_receptor_status'][i]=='negative' and df.T['patient.lab_proc_her2_neu_immunohistochemistry_receptor_status'][i]=='positive']\n",
    "    [receptor_data.update({df.T.index[i]:4})for i in range(len(df.T)) if df.T['patient.breast_carcinoma_estrogen_receptor_status'][i]=='negative' and df.T['patient.breast_carcinoma_progesterone_receptor_status'][i]=='negative' and df.T['patient.lab_proc_her2_neu_immunohistochemistry_receptor_status'][i]=='negative']\n",
    "\n",
    "    receptor_data=pd.DataFrame(receptor_data,index=['receptor_data'])\n",
    "    new_df=pd.DataFrame(index=df.index)\n",
    "    [func_for_col(i,new_df,df) for i in df if i in receptor_data.T.index]\n",
    "    new_df.loc['receptor_data']=receptor_data.T['receptor_data']\n",
    "    return new_df\n",
    "\n",
    "def dtd_less_30(df): #eleminating days to death lower than 30\n",
    "    new_df=pd.DataFrame(index=df.index)\n",
    "    for i in df:\n",
    "        if str(df.T['patient.days_to_death'][df.T.index.get_loc(i)])=='nan':\n",
    "            func_for_col(i,new_df,df)\n",
    "        elif int(df.T['patient.days_to_death'][df.T.index.get_loc(i)])>30 and int(df.T['patient.days_to_death'][df.T.index.get_loc(i)])<=3650 :\n",
    "            func_for_col(i,new_df,df)\n",
    "    return new_df\n",
    "\n",
    "def equaling_dfs(df1,df2,cond):#func for taking the junction between clin data and gene exp data\n",
    "                            #df1 for gene_data df2 for clin_data\n",
    "    def drop_func(i,df):\n",
    "            df=df.drop(i,axis=1,inplace=True)                           \n",
    "    if cond==0:                #cond is for adding normal samples or not.\n",
    "        temp1=pd.DataFrame(index=df1.index)\n",
    "        [func_for_col(i,temp1,df1) for i in df1 for j in df2 if j in i]\n",
    "        \n",
    "        [ drop_func(i,temp1) for i in temp1.T.index[1:] if  i[13:15]!='01']\n",
    "    \n",
    "        temp2=pd.DataFrame(index=df2.index)\n",
    "        [func_for_col(i,temp2,df2) for i in df2 for j in temp1 if i in j]\n",
    "        return [temp1,temp2]\n",
    "    elif cond==1:\n",
    "        temp1=pd.DataFrame(index=df1.index)\n",
    "        [func_for_col(i,temp1,df1) for i in df1 for j in df2 if j in i]\n",
    "        [ drop_func(i,temp1.T) for i in temp1.T.index[1:] if  i[13:15]!='01' and i[13:15]!='11']\n",
    "    \n",
    "        temp2=pd.DataFrame(index=df2.index)\n",
    "        [func_for_col(i,temp2,df2) for i in df2 for j in temp1 if i in j]\n",
    "        return [temp1,temp2]\n",
    "    \n",
    "    else:\n",
    "        print('Wrong condition entered it must be 0 or 1')\n",
    "        \n",
    "def clustering(z_score):# Hierarchical clustring\n",
    "    sns.set() #clustring with seaborn according to z score\n",
    "    snsclust=sns.clustermap(z_score.astype(np.float64),linewidth=0,vmax=4)\n",
    "    snsclust.dendrogram_col.reordered_ind\n",
    "    flats=hier.fcluster(snsclust.dendrogram_col.linkage,37,criterion='distance')#according to gene size the number here soul be changed to obtain good clusters\n",
    "    return [flats,snsclust,max(flats)]\n",
    "\n",
    "def clustering2(z_score,k): # K-means clustring\n",
    "    import Pycluster\n",
    "    sns.heatmap(z_score,linewidth=0,vmax=4)\n",
    "    x=Pycluster.kcluster(z_score.T,k)\n",
    "    return x[0]+1\n",
    "\n",
    "def eleminating_small_cls(df,flats):\n",
    "    df=pd.DataFrame(flats,index=df.T.index)\n",
    "    df=df.T\n",
    "    clst={}\n",
    "    rng=range(1,max(flats)+1)\n",
    "    [clst.update({str(i):0})for i in rng]\n",
    "    def addition(dic,key):\n",
    "        dic[key]=dic[key]+1\n",
    "    [addition(clst,str(int(df[i])))for i in df]\n",
    "    clst1=pd.DataFrame(clst,index=['counts'])\n",
    "    clst1=clst1.where(clst1>20)\n",
    "    clst1=clst1.T.dropna()\n",
    "    \n",
    "    clst=pd.DataFrame(clst,index=['counts'])\n",
    "    clst=clst.where(clst<20)\n",
    "    clst=clst.T.dropna()\n",
    "    clst=list(clst.index.astype(int))\n",
    "    for i in clst:\n",
    "        df=df[df!=i]\n",
    "    df=df.T.dropna()\n",
    "    return [df.T,clst1.index.astype(int)]\n",
    "def reconstruction_of_data(df1,df2,dic): #reconsturcting expression and clinical data according to clustring.\n",
    "    a=lambda x: x[0:12]\n",
    "    \n",
    "    lst=[]\n",
    "    for i in range(len(dic.columns)):\n",
    "        lst.append(a(dic.columns[i]))\n",
    "\n",
    "    rec_g_data=df1.T.loc[dic.columns,:]\n",
    "    rec_c_data=df2.T.loc[lst,:]\n",
    "    rec_g_data.index='clust'+pd.Series(list(dic.values.astype(int)[0].astype(str)))+' '+pd.Series(dic.columns)\n",
    "    rec_c_data.index='clust'+pd.Series(list(dic.values.astype(int)[0].astype(str)))+' '+pd.Series(lst)\n",
    "    rec_g_data=rec_g_data.sort_index()\n",
    "    rec_c_data=rec_c_data.sort_index()\n",
    "    \n",
    "    return [rec_g_data.T,rec_c_data.T]\n",
    "\n",
    "def survival(df): #constructs survival plot and returns days of death and alive status to use in different functions\n",
    "    df.loc['patient.days_to_death']=df.T['patient.days_to_death'].fillna(3650)\n",
    "    T=df.T['patient.days_to_death']\n",
    "    E=df.T['patient.vital_status']\n",
    "    E=E.replace('alive',0)\n",
    "    E=E.replace('dead',1)\n",
    "    kmf.fit(T,E,label='cluster'+df.T.index[0][5:7])\n",
    "    kmf.plot(ax=ax,show_censors=True)\n",
    "    return [T,E]\n",
    "\n",
    "def clusters_as_row(df): #to create a row represending the clusters for cox hazard\n",
    "    dic={}\n",
    "    [ dic.update({i: int(i[5:7])}) for i in df]\n",
    "    dic=pd.DataFrame(dic,index=['clusters'])\n",
    "    df.loc['clusters']=dic.T[dic.index[0]]\n",
    "    return df\n",
    "\n",
    "def cox_hazard(df):\n",
    "    df.loc['patient.days_to_death']=df.T['patient.days_to_death'].fillna(3650)\n",
    "    T=df.T['patient.days_to_death']\n",
    "    E=df.T['patient.vital_status']\n",
    "    E=E.replace('alive',0)\n",
    "    E=E.replace('dead',1)\n",
    "    regression_dataset={'clusters': df.T['clusters'],'pathologic_stage' : df.T['patient.stage_event.pathologic_stage'].fillna(0) ,'age': df.T['patient.age_at_initial_pathologic_diagnosis'],'subtype_status': df.T['receptor_data'],'T':T,'E':E}\n",
    "    regression_dataset=pd.DataFrame(regression_dataset)\n",
    "    regression_dataset=regression_dataset.fillna(0).astype(int)\n",
    "    cf.fit(regression_dataset, 'T', event_col='E')\n",
    "    cf.fit(regression_dataset, 'T', event_col='E')\n",
    "\n",
    "    return cf.summary\n",
    "    \n",
    "def slicing_df(df,clst_no):#slicing data frame to obtain each cluster for analysing one by one\n",
    "    clst_no=str(clst_no)\n",
    "    \n",
    "    temp_df=pd.DataFrame(index=df.index)\n",
    "    [[func_for_col(i,temp_df,df)for i in df if 'clust'+clst_no in i ]]\n",
    "    return temp_df\n",
    "\n",
    "def survival_significiance(list1):# checking if the survival is significiant between clusters.\n",
    "    l=[]\n",
    "    for i in range(0,len(list1)):\n",
    "        [l.append(['c'+list1[i][0].index[0][5:7]+' vs '+'c'+list1[j][0].index[0][5:7],logrank_test(list1[i][0], list1[j][0], list1[i][1], list1[j][1], alpha=.99 )]) for j in range(0,len(list1)) if i<j]\n",
    "    return l\n",
    "\n",
    "def ttest_n_for_clst(df1,df2):#normal ttest function for determining gene expression significance between two clusters.\n",
    "    ttest_results={}\n",
    "    def testing1(i):\n",
    "        gene_name=df1.index[i]\n",
    "    \n",
    "        x=df1.T[df1.index[i]].astype(float)     \n",
    "        y=df2.T[df2.index[i]].astype(float) \n",
    "        r=ttest_ind(x,y,equal_var=False)\n",
    "        ttest_results.update({gene_name:list(r)})\n",
    "        \n",
    "    [ testing1(i) for i in range(0,df1.count()[1])]\n",
    "    results_table=pd.DataFrame(ttest_results, index=['t_score','p_value'])\n",
    "    results_table\n",
    "    return results_table\n",
    "\n",
    "def determining_deg_btw_clst(df,c_num1,c_num2):#the result of this function is diferrentially expressed genes between two clusters\n",
    "    c1_df=pd.DataFrame(index=df.index)\n",
    "    c2_df=pd.DataFrame(index=df.index)\n",
    "    [func_for_col(i,c1_df,df) for i in df if int(i[5:7])==c_num1]\n",
    "    [func_for_col(i,c2_df,df) for i in df if int(i[5:7])==c_num2]\n",
    "    return ttest_n_for_clst(c1_df,c2_df)\n",
    "    \n",
    "def pca_plot(df):\n",
    "    pca = PCA(n_components=2)\n",
    "    pca.fit(df.T.astype(float))\n",
    "    x=pca.transform(df.T.astype(float))\n",
    "    return pl.scatter(x[:, 0], x[:, 1]) \n",
    "\n",
    "def filtering_outliers(df,lb,ub): #filtering outliers according to lower bound and upper bound that we decide from pca plot.\n",
    "    pca = PCA(n_components=2)\n",
    "    pca.fit(df.T.astype(float))\n",
    "    x=pca.transform(df.T.astype(float))\n",
    "    x=pd.DataFrame(x,index=df.T.index)\n",
    "    x=x[lb<x]\n",
    "    x=x[ub>x]\n",
    "    x=x.dropna()\n",
    "    df=df.T.loc[x.T.columns,:]\n",
    "    return df.T\n",
    "\n",
    "def elbow_curve(df): # elbow curve for determining k for k-means.\n",
    "    # we use z-score matris of genes and return it to be used in clustring.\n",
    "    z_score={}\n",
    "    [z_score.update({i:zscore(df.T[i].astype(np.float64))}) for i in df.T if i[13:15]!='11']\n",
    "    z_score=pd.DataFrame(z_score,index=df.T.index)\n",
    "    z_score=z_score.T #creating z score matrix \n",
    "    z_score1=np.array(z_score)\n",
    "\n",
    "    K = range(1,15)\n",
    "    KM = [kmeans(z_score1,k) for k in K]\n",
    "    centroids = [cent for (cent,var) in KM]\n",
    "    D_k = [cdist(z_score1, cent, 'euclidean') for cent in centroids]\n",
    "    cIdx = [np.argmin(D,axis=1) for D in D_k]\n",
    "    dist = [np.min(D,axis=1) for D in D_k]\n",
    "    avgWithinSS = [sum(d)/z_score1.shape[0] for d in dist]\n",
    "    kIdx = 6\n",
    "    fig = plt.figure()\n",
    "    ax = fig.add_subplot(111)\n",
    "    ax.plot(K, avgWithinSS, 'b*-')\n",
    "    ax.plot(K[kIdx], avgWithinSS[kIdx], marker='o', markersize=12, \n",
    "        markeredgewidth=2, markeredgecolor='r', markerfacecolor='None')\n",
    "    plt.grid(True)\n",
    "    plt.xlabel('Number of clusters')\n",
    "    plt.ylabel('Average within-cluster sum of squares')\n",
    "    plt.title('Elbow for KMeans clustering')\n",
    "    return z_score"
   ]
  },
  {
   "cell_type": "code",
   "execution_count": 45,
   "metadata": {
    "collapsed": false,
    "scrolled": true
   },
   "outputs": [
    {
     "data": {
      "text/plain": [
       "<matplotlib.collections.PathCollection at 0x7f6c74108650>"
      ]
     },
     "execution_count": 45,
     "metadata": {},
     "output_type": "execute_result"
    },
    {
     "data": {
      "image/png": "[encoded data removed]",
      "text/plain": [
       "<matplotlib.figure.Figure at 0x7f6c74240210>"
      ]
     },
     "metadata": {},
     "output_type": "display_data"
    }
   ],
   "source": [
    "BRCA_data=pd.DataFrame.from_csv('/cellar/users/mkose/Downloads/TCGAdata/data_from_andy/gdac.broadinstitute.org_BRCA.Merge_rnaseqv2__illuminahiseq_rnaseqv2__unc_edu__Level_3__RSEM_genes_normalized__data.Level_3.2015040200.0.0/BRCA.rnaseqv2__illuminahiseq_rnaseqv2__unc_edu__Level_3__RSEM_genes_normalized__data.data.txt',sep='\\t')\n",
    "BRCA_data=BRCA_data.drop('gene_id')\n",
    "#filtering by genes\n",
    "genes_to_filter=['ACTN1','ACTN4','BCAR1','PTK2','PXN','RAC1','TLN','VASP','VCL','ZYX']\n",
    "gene_data=filtering_genes(genes_to_filter,BRCA_data.astype(float))\n",
    "gene_data=filtering_genes_faster(checking_p_value(ttest_paired(gene_data)),gene_data)\n",
    "pca_plot(gene_data)"
   ]
  },
  {
   "cell_type": "code",
   "execution_count": 46,
   "metadata": {
    "collapsed": false
   },
   "outputs": [],
   "source": [
    "gene_data=filtering_outliers(gene_data,-10000,10000)\n",
    "#importing clinical data\n",
    "clin_data=pd.DataFrame.from_csv('/cellar/users/mkose/Downloads/TCGAdata/data_from_andy/gdac.broadinstitute.org_BRCA.Merge_rnaseqv2__illuminahiseq_rnaseqv2__unc_edu__Level_3__RSEM_genes_normalized__data.Level_3.2015040200.0.0/gdac.broadinstitute.org_BRCA.Merge_Clinical.Level_1.2015040200.0.0/BRCA_clin_merged.csv')\n",
    "clin_data.loc['patient.bcr_patient_barcode']=[a.upper() for a in clin_data.T['patient.bcr_patient_barcode']]\n",
    "clin_data.loc['patient.bcr_patient_barcode']=[str(a).upper() for a in clin_data.T['patient.bcr_patient_barcode']]\n",
    "clin_data=clin_data.T.set_index('patient.bcr_patient_barcode')\n",
    "clin_data=clin_data.T\n",
    "imp_data=['patient.days_to_death','patient.days_to_last_followup','patient.bcr_patient_barcode','patient.age_at_initial_pathologic_diagnosis','patient.clinical_cqcf.other_diagnosis','patient.clinical_cqcf.tumor_type','micrometastasis_indicator','patient.histological_type_other','patient.vital_status','patient.breast_carcinoma_progesterone_receptor_status','patient.lab_proc_her2_neu_immunohistochemistry_receptor_status','patient.breast_carcinoma_estrogen_receptor_status','patient.stage_event.pathologic_stage']\n",
    "merging_data=['new_neoplasm_event_type']"
   ]
  },
  {
   "cell_type": "code",
   "execution_count": 47,
   "metadata": {
    "collapsed": false
   },
   "outputs": [
    {
     "data": {
      "image/png": "[encoded data removed]",
      "text/plain": [
       "<matplotlib.figure.Figure at 0x7f6c73c7a750>"
      ]
     },
     "metadata": {},
     "output_type": "display_data"
    }
   ],
   "source": [
    "#clinical data processing starts here!!! Filtering clinical data\n",
    "clin_data=pd.concat([filtering_row_info(imp_data,clin_data),merging_rows(merging_data,clin_data)])\n",
    "clin_data=extracting_recep_data(clin_data)\n",
    "clin_data=dtd_less_30(filter_age(roman_to_int(clin_data)))\n",
    "clind_wth_clstr=pd.DataFrame()\n",
    "cond=0 #this states if we take normal samples or not\n",
    "#equaling and reconstracting clinical data frame according to filtered clusters.\n",
    "temps=equaling_dfs(gene_data,clin_data,cond=cond)\n",
    "gene_data=temps[0]\n",
    "clin_data=temps[1]\n",
    "z_score=elbow_curve(gene_data)"
   ]
  },
  {
   "cell_type": "code",
   "execution_count": 48,
   "metadata": {
    "collapsed": false
   },
   "outputs": [
    {
     "data": {
      "image/png": "[encoded data removed]",
      "text/plain": [
       "<matplotlib.figure.Figure at 0x7f6c73326650>"
      ]
     },
     "metadata": {},
     "output_type": "display_data"
    }
   ],
   "source": [
    "#flats=clustering(z_score)[0]\n",
    "flats=clustering2(z_score,7)\n",
    "x=eleminating_small_cls(gene_data,flats)\n",
    "clusters=x[1]\n",
    "[rec_gene_data,rec_clin_data]=reconstruction_of_data(gene_data,clin_data,x[0])\n",
    "rec_clin_data=clusters_as_row(rec_clin_data)\n",
    "\n",
    "rec_clin_data.T.to_csv('/cellar/users/mkose/cs.csv')\n",
    "rec_clin_data=pd.DataFrame.from_csv('/cellar/users/mkose/cs.csv') #Im not changing anything here but if I dont do this the plots doesnt show anything\n",
    "rec_clin_data=rec_clin_data.T"
   ]
  },
  {
   "cell_type": "code",
   "execution_count": 49,
   "metadata": {
    "collapsed": false
   },
   "outputs": [
    {
     "data": {
      "text/html": [
       "<div style=\"max-height:1000px;max-width:1500px;overflow:auto;\">\n",
       "<table border=\"1\" class=\"dataframe\">\n",
       "  <thead>\n",
       "    <tr style=\"text-align: right;\">\n",
       "      <th></th>\n",
       "      <th>coef</th>\n",
       "      <th>exp(coef)</th>\n",
       "      <th>se(coef)</th>\n",
       "      <th>z</th>\n",
       "      <th>p</th>\n",
       "      <th>lower 0.95</th>\n",
       "      <th>upper 0.95</th>\n",
       "    </tr>\n",
       "  </thead>\n",
       "  <tbody>\n",
       "    <tr>\n",
       "      <th>age</th>\n",
       "      <td> 0.256795</td>\n",
       "      <td> 1.292780</td>\n",
       "      <td> 0.137384</td>\n",
       "      <td> 1.869184</td>\n",
       "      <td> 0.061597</td>\n",
       "      <td>-0.012531</td>\n",
       "      <td> 0.526121</td>\n",
       "    </tr>\n",
       "    <tr>\n",
       "      <th>clusters</th>\n",
       "      <td> 0.298322</td>\n",
       "      <td> 1.347595</td>\n",
       "      <td> 0.130740</td>\n",
       "      <td> 2.281793</td>\n",
       "      <td> 0.022502</td>\n",
       "      <td> 0.042020</td>\n",
       "      <td> 0.554624</td>\n",
       "    </tr>\n",
       "    <tr>\n",
       "      <th>pathologic_stage</th>\n",
       "      <td> 0.270918</td>\n",
       "      <td> 1.311167</td>\n",
       "      <td> 0.138459</td>\n",
       "      <td> 1.956662</td>\n",
       "      <td> 0.050387</td>\n",
       "      <td>-0.000517</td>\n",
       "      <td> 0.542352</td>\n",
       "    </tr>\n",
       "    <tr>\n",
       "      <th>subtype_status</th>\n",
       "      <td> 0.268340</td>\n",
       "      <td> 1.307792</td>\n",
       "      <td> 0.110523</td>\n",
       "      <td> 2.427910</td>\n",
       "      <td> 0.015186</td>\n",
       "      <td> 0.051671</td>\n",
       "      <td> 0.485009</td>\n",
       "    </tr>\n",
       "  </tbody>\n",
       "</table>\n",
       "</div>"
      ],
      "text/plain": [
       "                      coef  exp(coef)  se(coef)         z         p  \\\n",
       "age               0.256795   1.292780  0.137384  1.869184  0.061597   \n",
       "clusters          0.298322   1.347595  0.130740  2.281793  0.022502   \n",
       "pathologic_stage  0.270918   1.311167  0.138459  1.956662  0.050387   \n",
       "subtype_status    0.268340   1.307792  0.110523  2.427910  0.015186   \n",
       "\n",
       "                  lower 0.95  upper 0.95  \n",
       "age                -0.012531    0.526121  \n",
       "clusters            0.042020    0.554624  \n",
       "pathologic_stage   -0.000517    0.542352  \n",
       "subtype_status      0.051671    0.485009  "
      ]
     },
     "execution_count": 49,
     "metadata": {},
     "output_type": "execute_result"
    }
   ],
   "source": [
    "cox_hazard(rec_clin_data)"
   ]
  },
  {
   "cell_type": "code",
   "execution_count": 50,
   "metadata": {
    "collapsed": false,
    "scrolled": true
   },
   "outputs": [
    {
     "data": {
      "text/plain": [
       "[['c1  vs c2 ', <lifelines.StatisticalResult: \n",
       "  Results\n",
       "     df: 1\n",
       "     alpha: 0.99\n",
       "     t 0: -1\n",
       "     test: logrank\n",
       "     null distribution: chi squared\n",
       "  \n",
       "     __ p-value ___|__ test statistic __|____ test result ____|__ is significant __\n",
       "           0.95776 |              0.003 |  Cannot Reject Null |       False       \n",
       "  >], ['c1  vs c3 ', <lifelines.StatisticalResult: \n",
       "  Results\n",
       "     df: 1\n",
       "     alpha: 0.99\n",
       "     t 0: -1\n",
       "     test: logrank\n",
       "     null distribution: chi squared\n",
       "  \n",
       "     __ p-value ___|__ test statistic __|____ test result ____|__ is significant __\n",
       "           0.42777 |              0.629 |  Cannot Reject Null |       False       \n",
       "  >], ['c1  vs c4 ', <lifelines.StatisticalResult: \n",
       "  Results\n",
       "     df: 1\n",
       "     alpha: 0.99\n",
       "     t 0: -1\n",
       "     test: logrank\n",
       "     null distribution: chi squared\n",
       "  \n",
       "     __ p-value ___|__ test statistic __|____ test result ____|__ is significant __\n",
       "           0.00417 |              8.209 |      Reject Null    |        True       \n",
       "  >], ['c1  vs c5 ', <lifelines.StatisticalResult: \n",
       "  Results\n",
       "     df: 1\n",
       "     alpha: 0.99\n",
       "     t 0: -1\n",
       "     test: logrank\n",
       "     null distribution: chi squared\n",
       "  \n",
       "     __ p-value ___|__ test statistic __|____ test result ____|__ is significant __\n",
       "           0.01124 |              6.426 |  Cannot Reject Null |       False       \n",
       "  >], ['c1  vs c6 ', <lifelines.StatisticalResult: \n",
       "  Results\n",
       "     df: 1\n",
       "     alpha: 0.99\n",
       "     t 0: -1\n",
       "     test: logrank\n",
       "     null distribution: chi squared\n",
       "  \n",
       "     __ p-value ___|__ test statistic __|____ test result ____|__ is significant __\n",
       "           0.50522 |              0.444 |  Cannot Reject Null |       False       \n",
       "  >], ['c1  vs c7 ', <lifelines.StatisticalResult: \n",
       "  Results\n",
       "     df: 1\n",
       "     alpha: 0.99\n",
       "     t 0: -1\n",
       "     test: logrank\n",
       "     null distribution: chi squared\n",
       "  \n",
       "     __ p-value ___|__ test statistic __|____ test result ____|__ is significant __\n",
       "           0.01262 |              6.221 |  Cannot Reject Null |       False       \n",
       "  >], ['c2  vs c3 ', <lifelines.StatisticalResult: \n",
       "  Results\n",
       "     df: 1\n",
       "     alpha: 0.99\n",
       "     t 0: -1\n",
       "     test: logrank\n",
       "     null distribution: chi squared\n",
       "  \n",
       "     __ p-value ___|__ test statistic __|____ test result ____|__ is significant __\n",
       "           0.49094 |              0.474 |  Cannot Reject Null |       False       \n",
       "  >], ['c2  vs c4 ', <lifelines.StatisticalResult: \n",
       "  Results\n",
       "     df: 1\n",
       "     alpha: 0.99\n",
       "     t 0: -1\n",
       "     test: logrank\n",
       "     null distribution: chi squared\n",
       "  \n",
       "     __ p-value ___|__ test statistic __|____ test result ____|__ is significant __\n",
       "           0.02543 |              4.994 |  Cannot Reject Null |       False       \n",
       "  >], ['c2  vs c5 ', <lifelines.StatisticalResult: \n",
       "  Results\n",
       "     df: 1\n",
       "     alpha: 0.99\n",
       "     t 0: -1\n",
       "     test: logrank\n",
       "     null distribution: chi squared\n",
       "  \n",
       "     __ p-value ___|__ test statistic __|____ test result ____|__ is significant __\n",
       "           0.05938 |              3.555 |  Cannot Reject Null |       False       \n",
       "  >], ['c2  vs c6 ', <lifelines.StatisticalResult: \n",
       "  Results\n",
       "     df: 1\n",
       "     alpha: 0.99\n",
       "     t 0: -1\n",
       "     test: logrank\n",
       "     null distribution: chi squared\n",
       "  \n",
       "     __ p-value ___|__ test statistic __|____ test result ____|__ is significant __\n",
       "           0.59883 |              0.277 |  Cannot Reject Null |       False       \n",
       "  >], ['c2  vs c7 ', <lifelines.StatisticalResult: \n",
       "  Results\n",
       "     df: 1\n",
       "     alpha: 0.99\n",
       "     t 0: -1\n",
       "     test: logrank\n",
       "     null distribution: chi squared\n",
       "  \n",
       "     __ p-value ___|__ test statistic __|____ test result ____|__ is significant __\n",
       "           0.04831 |              3.899 |  Cannot Reject Null |       False       \n",
       "  >], ['c3  vs c4 ', <lifelines.StatisticalResult: \n",
       "  Results\n",
       "     df: 1\n",
       "     alpha: 0.99\n",
       "     t 0: -1\n",
       "     test: logrank\n",
       "     null distribution: chi squared\n",
       "  \n",
       "     __ p-value ___|__ test statistic __|____ test result ____|__ is significant __\n",
       "           0.01207 |              6.300 |  Cannot Reject Null |       False       \n",
       "  >], ['c3  vs c5 ', <lifelines.StatisticalResult: \n",
       "  Results\n",
       "     df: 1\n",
       "     alpha: 0.99\n",
       "     t 0: -1\n",
       "     test: logrank\n",
       "     null distribution: chi squared\n",
       "  \n",
       "     __ p-value ___|__ test statistic __|____ test result ____|__ is significant __\n",
       "           0.02903 |              4.766 |  Cannot Reject Null |       False       \n",
       "  >], ['c3  vs c6 ', <lifelines.StatisticalResult: \n",
       "  Results\n",
       "     df: 1\n",
       "     alpha: 0.99\n",
       "     t 0: -1\n",
       "     test: logrank\n",
       "     null distribution: chi squared\n",
       "  \n",
       "     __ p-value ___|__ test statistic __|____ test result ____|__ is significant __\n",
       "           0.80765 |              0.059 |  Cannot Reject Null |       False       \n",
       "  >], ['c3  vs c7 ', <lifelines.StatisticalResult: \n",
       "  Results\n",
       "     df: 1\n",
       "     alpha: 0.99\n",
       "     t 0: -1\n",
       "     test: logrank\n",
       "     null distribution: chi squared\n",
       "  \n",
       "     __ p-value ___|__ test statistic __|____ test result ____|__ is significant __\n",
       "           0.02327 |              5.148 |  Cannot Reject Null |       False       \n",
       "  >], ['c4  vs c5 ', <lifelines.StatisticalResult: \n",
       "  Results\n",
       "     df: 1\n",
       "     alpha: 0.99\n",
       "     t 0: -1\n",
       "     test: logrank\n",
       "     null distribution: chi squared\n",
       "  \n",
       "     __ p-value ___|__ test statistic __|____ test result ____|__ is significant __\n",
       "           0.57711 |              0.311 |  Cannot Reject Null |       False       \n",
       "  >], ['c4  vs c6 ', <lifelines.StatisticalResult: \n",
       "  Results\n",
       "     df: 1\n",
       "     alpha: 0.99\n",
       "     t 0: -1\n",
       "     test: logrank\n",
       "     null distribution: chi squared\n",
       "  \n",
       "     __ p-value ___|__ test statistic __|____ test result ____|__ is significant __\n",
       "           0.00485 |              7.936 |      Reject Null    |        True       \n",
       "  >], ['c4  vs c7 ', <lifelines.StatisticalResult: \n",
       "  Results\n",
       "     df: 1\n",
       "     alpha: 0.99\n",
       "     t 0: -1\n",
       "     test: logrank\n",
       "     null distribution: chi squared\n",
       "  \n",
       "     __ p-value ___|__ test statistic __|____ test result ____|__ is significant __\n",
       "           0.77785 |              0.080 |  Cannot Reject Null |       False       \n",
       "  >], ['c5  vs c6 ', <lifelines.StatisticalResult: \n",
       "  Results\n",
       "     df: 1\n",
       "     alpha: 0.99\n",
       "     t 0: -1\n",
       "     test: logrank\n",
       "     null distribution: chi squared\n",
       "  \n",
       "     __ p-value ___|__ test statistic __|____ test result ____|__ is significant __\n",
       "           0.01374 |              6.071 |  Cannot Reject Null |       False       \n",
       "  >], ['c5  vs c7 ', <lifelines.StatisticalResult: \n",
       "  Results\n",
       "     df: 1\n",
       "     alpha: 0.99\n",
       "     t 0: -1\n",
       "     test: logrank\n",
       "     null distribution: chi squared\n",
       "  \n",
       "     __ p-value ___|__ test statistic __|____ test result ____|__ is significant __\n",
       "           0.81423 |              0.055 |  Cannot Reject Null |       False       \n",
       "  >], ['c6  vs c7 ', <lifelines.StatisticalResult: \n",
       "  Results\n",
       "     df: 1\n",
       "     alpha: 0.99\n",
       "     t 0: -1\n",
       "     test: logrank\n",
       "     null distribution: chi squared\n",
       "  \n",
       "     __ p-value ___|__ test statistic __|____ test result ____|__ is significant __\n",
       "           0.01113 |              6.444 |  Cannot Reject Null |       False       \n",
       "  >]]"
      ]
     },
     "execution_count": 50,
     "metadata": {},
     "output_type": "execute_result"
    },
    {
     "data": {
      "image/png": "[encoded data removed]",
      "text/plain": [
       "<matplotlib.figure.Figure at 0x7f6c6b58f290>"
      ]
     },
     "metadata": {},
     "output_type": "display_data"
    }
   ],
   "source": [
    "ax = plt.subplot(111)\n",
    "survival_significiance([survival(slicing_df(rec_clin_data,i)) for i in clusters])"
   ]
  },
  {
   "cell_type": "code",
   "execution_count": 51,
   "metadata": {
    "collapsed": false
   },
   "outputs": [
    {
     "data": {
      "text/plain": [
       "7"
      ]
     },
     "execution_count": 51,
     "metadata": {},
     "output_type": "execute_result"
    }
   ],
   "source": [
    "max(flats)"
   ]
  },
  {
   "cell_type": "code",
   "execution_count": 52,
   "metadata": {
    "collapsed": false
   },
   "outputs": [
    {
     "data": {
      "text/plain": [
       "[251, 99, 70, 66, 131, 112, 66, 0, 0, 0, 0]"
      ]
     },
     "execution_count": 52,
     "metadata": {},
     "output_type": "execute_result"
    }
   ],
   "source": [
    "map( lambda i : slicing_df(rec_clin_data,i).shape[1],range(1,12))"
   ]
  },
  {
   "cell_type": "code",
   "execution_count": 53,
   "metadata": {
    "collapsed": false,
    "scrolled": true
   },
   "outputs": [
    {
     "data": {
      "text/plain": [
       "0.021713435832823792"
      ]
     },
     "execution_count": 53,
     "metadata": {},
     "output_type": "execute_result"
    }
   ],
   "source": [
    "from sklearn.metrics.cluster import adjusted_rand_score\n",
    "adjusted_rand_score(rec_clin_data.T['receptor_data'],rec_clin_data.T['clusters'])"
   ]
  },
  {
   "cell_type": "code",
   "execution_count": 55,
   "metadata": {
    "collapsed": false
   },
   "outputs": [
    {
     "data": {
      "text/html": [
       "<div style=\"max-height:1000px;max-width:1500px;overflow:auto;\">\n",
       "<table border=\"1\" class=\"dataframe\">\n",
       "  <thead>\n",
       "    <tr style=\"text-align: right;\">\n",
       "      <th></th>\n",
       "      <th>ACTN1|87</th>\n",
       "      <th>PTK2|5747</th>\n",
       "      <th>PXN|5829</th>\n",
       "      <th>RAC1|5879</th>\n",
       "      <th>TLN1|7094</th>\n",
       "      <th>TLN2|83660</th>\n",
       "      <th>VASP|7408</th>\n",
       "      <th>VCL|7414</th>\n",
       "      <th>ZYX|7791</th>\n",
       "    </tr>\n",
       "  </thead>\n",
       "  <tbody>\n",
       "    <tr>\n",
       "      <th>t_score</th>\n",
       "      <td>-1.078051e+01</td>\n",
       "      <td> 1.919245e+01</td>\n",
       "      <td>-4.369177</td>\n",
       "      <td> 2.934166</td>\n",
       "      <td>-1.348630e+01</td>\n",
       "      <td>-1.249790e+01</td>\n",
       "      <td>-3.143837</td>\n",
       "      <td>-8.074355e+00</td>\n",
       "      <td>-8.004145e+00</td>\n",
       "    </tr>\n",
       "    <tr>\n",
       "      <th>p_value</th>\n",
       "      <td> 1.717387e-20</td>\n",
       "      <td> 1.991484e-33</td>\n",
       "      <td> 0.000028</td>\n",
       "      <td> 0.004098</td>\n",
       "      <td> 1.781640e-28</td>\n",
       "      <td> 9.956013e-23</td>\n",
       "      <td> 0.002111</td>\n",
       "      <td> 1.471298e-13</td>\n",
       "      <td> 4.729474e-13</td>\n",
       "    </tr>\n",
       "  </tbody>\n",
       "</table>\n",
       "</div>"
      ],
      "text/plain": [
       "             ACTN1|87     PTK2|5747  PXN|5829  RAC1|5879     TLN1|7094  \\\n",
       "t_score -1.078051e+01  1.919245e+01 -4.369177   2.934166 -1.348630e+01   \n",
       "p_value  1.717387e-20  1.991484e-33  0.000028   0.004098  1.781640e-28   \n",
       "\n",
       "           TLN2|83660  VASP|7408      VCL|7414      ZYX|7791  \n",
       "t_score -1.249790e+01  -3.143837 -8.074355e+00 -8.004145e+00  \n",
       "p_value  9.956013e-23   0.002111  1.471298e-13  4.729474e-13  "
      ]
     },
     "execution_count": 55,
     "metadata": {},
     "output_type": "execute_result"
    }
   ],
   "source": [
    "determining_deg_btw_clst(rec_gene_data,4,6)"
   ]
  },
  {
   "cell_type": "code",
   "execution_count": null,
   "metadata": {
    "collapsed": false
   },
   "outputs": [],
   "source": []
  },
  {
   "cell_type": "code",
   "execution_count": null,
   "metadata": {
    "collapsed": false
   },
   "outputs": [],
   "source": []
  },
  {
   "cell_type": "code",
   "execution_count": null,
   "metadata": {
    "collapsed": false,
    "scrolled": true
   },
   "outputs": [],
   "source": []
  },
  {
   "cell_type": "code",
   "execution_count": null,
   "metadata": {
    "collapsed": false
   },
   "outputs": [],
   "source": []
  },
  {
   "cell_type": "code",
   "execution_count": null,
   "metadata": {
    "collapsed": false
   },
   "outputs": [],
   "source": []
  },
  {
   "cell_type": "code",
   "execution_count": null,
   "metadata": {
    "collapsed": false
   },
   "outputs": [],
   "source": []
  },
  {
   "cell_type": "code",
   "execution_count": null,
   "metadata": {
    "collapsed": true
   },
   "outputs": [],
   "source": []
  },
  {
   "cell_type": "code",
   "execution_count": null,
   "metadata": {
    "collapsed": false
   },
   "outputs": [],
   "source": []
  },
  {
   "cell_type": "code",
   "execution_count": null,
   "metadata": {
    "collapsed": true
   },
   "outputs": [],
   "source": []
  },
  {
   "cell_type": "code",
   "execution_count": null,
   "metadata": {
    "collapsed": false,
    "scrolled": true
   },
   "outputs": [],
   "source": []
  },
  {
   "cell_type": "code",
   "execution_count": null,
   "metadata": {
    "collapsed": false
   },
   "outputs": [],
   "source": []
  },
  {
   "cell_type": "code",
   "execution_count": null,
   "metadata": {
    "collapsed": true
   },
   "outputs": [],
   "source": []
  },
  {
   "cell_type": "code",
   "execution_count": null,
   "metadata": {
    "collapsed": true
   },
   "outputs": [],
   "source": []
  },
  {
   "cell_type": "code",
   "execution_count": null,
   "metadata": {
    "collapsed": false
   },
   "outputs": [],
   "source": []
  },
  {
   "cell_type": "code",
   "execution_count": null,
   "metadata": {
    "collapsed": false
   },
   "outputs": [],
   "source": []
  },
  {
   "cell_type": "code",
   "execution_count": null,
   "metadata": {
    "collapsed": false
   },
   "outputs": [],
   "source": []
  },
  {
   "cell_type": "code",
   "execution_count": null,
   "metadata": {
    "collapsed": false
   },
   "outputs": [],
   "source": []
  },
  {
   "cell_type": "code",
   "execution_count": null,
   "metadata": {
    "collapsed": true
   },
   "outputs": [],
   "source": []
  }
 ],
 "metadata": {
  "kernelspec": {
   "display_name": "Python 2",
   "language": "python",
   "name": "python2"
  },
  "language_info": {
   "codemirror_mode": {
    "name": "ipython",
    "version": 2
   },
   "file_extension": ".py",
   "mimetype": "text/x-python",
   "name": "python",
   "nbconvert_exporter": "python",
   "pygments_lexer": "ipython2",
   "version": "2.7.13"
  }
 },
 "nbformat": 4,
 "nbformat_minor": 0
}
