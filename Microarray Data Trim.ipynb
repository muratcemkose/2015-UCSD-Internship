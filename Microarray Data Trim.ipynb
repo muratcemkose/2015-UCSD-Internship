{
 "cells": [
  {
   "cell_type": "code",
   "execution_count": 364,
   "metadata": {
    "collapsed": false
   },
   "outputs": [],
   "source": [
    "import pandas as pd\n",
    "import matplotlib.pyplot as plt\n",
    "import numpy as np\n",
    "import matplotlib.pyplot as plt\n",
    "%matplotlib inline\n",
    "\n",
    "def collapse(data):\n",
    "    genes=data.index.unique()\n",
    "    data1=data.tail()\n",
    "    data1.index=['Na','Na','Na','Na','Na']\n",
    "    data1=data1.drop('Na')\n",
    "    for i in genes:\n",
    "        if type(i)!=float:\n",
    "            data1.loc[i]=[data[data.index==i].irow(j) for j in range(len(data[data.index==i])) if data[data.index==i].irow(j).mean()==np.max([data[data.index==i].irow(j).mean() for j in range(len(data[data.index==i]))])][0]\n",
    "    return data1"
   ]
  },
  {
   "cell_type": "code",
   "execution_count": 513,
   "metadata": {
    "collapsed": false
   },
   "outputs": [],
   "source": [
    "lst=['GSE8167','GSE20708','GSE51697','GSE56670']\n",
    "clin_data=pd.DataFrame()\n",
    "for i in lst:\n",
    "    data=pd.DataFrame.from_csv('/cellar/users/mkose/Downloads/GIST/Affy/'+i+'/'+i+'_exp.csv')\n",
    "    if i=='GSE8167':    \n",
    "        data1=pd.DataFrame(index=data.index)\n",
    "    data1=pd.concat([data1,collapse(data)],axis=1)\n",
    "    clin_data1=pd.DataFrame(index=data.columns)\n",
    "    clin_data1=clin_data1.T\n",
    "    if i=='GSE8167':\n",
    "        clin_data1.loc['Race']='Asian'\n",
    "    elif i=='GSE20708':\n",
    "        clin_data1.loc['Race']='Caucasian'\n",
    "    else:\n",
    "        clin_data1.loc['Race']='Na'\n",
    "    clin_data=pd.concat([clin_data,clin_data1],axis=1)\n",
    "data1=data1.dropna()"
   ]
  },
  {
   "cell_type": "code",
   "execution_count": 501,
   "metadata": {
    "collapsed": false,
    "scrolled": true
   },
   "outputs": [],
   "source": [
    "x=pd.DataFrame.from_csv('/cellar/users/mkose/Downloads/GIST/non_affy/GSE31802/GSE31902_exp2.csv')\n",
    "x=x.loc[data1.index,:].dropna()\n",
    "data2=data1.loc[x.index,:].dropna()\n",
    "data2=pd.concat([data2,x],axis=1)"
   ]
  },
  {
   "cell_type": "code",
   "execution_count": 514,
   "metadata": {
    "collapsed": false
   },
   "outputs": [],
   "source": [
    "clin_data1=pd.DataFrame(index=x.columns)\n",
    "clin_data1=clin_data1.T\n",
    "clin_data1.loc['Race']='Asian'\n",
    "clin_data=pd.concat([clin_data,clin_data1],axis=1)"
   ]
  },
  {
   "cell_type": "code",
   "execution_count": 502,
   "metadata": {
    "collapsed": false
   },
   "outputs": [],
   "source": [
    "data2.to_csv('/cellar/users/mkose/Downloads/GIST/summed_exp.csv')"
   ]
  },
  {
   "cell_type": "code",
   "execution_count": 552,
   "metadata": {
    "collapsed": false
   },
   "outputs": [],
   "source": [
    "normalized=pd.DataFrame.from_csv('/cellar/users/mkose/Downloads/GIST/normalized.csv')\n",
    "del normalized['X']\n",
    "new_col=[i[0:10] for i in normalized.columns]\n",
    "new_col=[i[0:9] if '.' in i else i for i in new_col]\n",
    "normalized.index=data2.index\n",
    "normalized.columns=new_col\n",
    "clin_data.columns=new_col\n",
    "normalized.to_csv('/cellar/users/mkose/Downloads/GIST/normalized.csv')"
   ]
  },
  {
   "cell_type": "code",
   "execution_count": 610,
   "metadata": {
    "collapsed": false
   },
   "outputs": [],
   "source": [
    "location_data=pd.DataFrame.from_csv('/cellar/users/mkose/Downloads/GIST/Affy/GSE8167/tissue_data.txt',sep='\\t').T"
   ]
  },
  {
   "cell_type": "code",
   "execution_count": 611,
   "metadata": {
    "collapsed": false
   },
   "outputs": [],
   "source": [
    "location_data.loc['Tissue']=['Stomach' if 'Gastric' in i else 'Intestines' for i in location_data.T.Tissue ]\n",
    "location_data=pd.concat([location_data,pd.DataFrame.from_csv('/cellar/users/mkose/Downloads/GIST/non_affy/GSE31802/tissue_data.txt',sep='\\t').T],axis=1)\n",
    "location_data.columns=[i[0:9] for i in location_data.columns]\n",
    "clin_data.loc['Tissue']=location_data.loc['Tissue']\n",
    "clin_data.to_csv('/cellar/users/mkose/Downloads/GIST/clin_data.csv')"
   ]
  },
  {
   "cell_type": "code",
   "execution_count": null,
   "metadata": {
    "collapsed": false
   },
   "outputs": [],
   "source": []
  },
  {
   "cell_type": "code",
   "execution_count": null,
   "metadata": {
    "collapsed": false
   },
   "outputs": [],
   "source": []
  },
  {
   "cell_type": "code",
   "execution_count": null,
   "metadata": {
    "collapsed": false
   },
   "outputs": [],
   "source": []
  },
  {
   "cell_type": "code",
   "execution_count": null,
   "metadata": {
    "collapsed": false,
    "scrolled": true
   },
   "outputs": [],
   "source": []
  },
  {
   "cell_type": "code",
   "execution_count": null,
   "metadata": {
    "collapsed": false
   },
   "outputs": [],
   "source": []
  },
  {
   "cell_type": "code",
   "execution_count": null,
   "metadata": {
    "collapsed": false,
    "scrolled": true
   },
   "outputs": [],
   "source": []
  },
  {
   "cell_type": "code",
   "execution_count": null,
   "metadata": {
    "collapsed": false
   },
   "outputs": [],
   "source": []
  },
  {
   "cell_type": "code",
   "execution_count": null,
   "metadata": {
    "collapsed": false,
    "scrolled": true
   },
   "outputs": [],
   "source": []
  },
  {
   "cell_type": "code",
   "execution_count": null,
   "metadata": {
    "collapsed": false,
    "scrolled": true
   },
   "outputs": [],
   "source": []
  },
  {
   "cell_type": "code",
   "execution_count": null,
   "metadata": {
    "collapsed": false
   },
   "outputs": [],
   "source": []
  },
  {
   "cell_type": "code",
   "execution_count": null,
   "metadata": {
    "collapsed": false,
    "scrolled": true
   },
   "outputs": [],
   "source": []
  },
  {
   "cell_type": "code",
   "execution_count": null,
   "metadata": {
    "collapsed": false,
    "scrolled": true
   },
   "outputs": [],
   "source": []
  },
  {
   "cell_type": "code",
   "execution_count": null,
   "metadata": {
    "collapsed": false,
    "scrolled": true
   },
   "outputs": [],
   "source": []
  },
  {
   "cell_type": "code",
   "execution_count": null,
   "metadata": {
    "collapsed": false
   },
   "outputs": [],
   "source": []
  },
  {
   "cell_type": "code",
   "execution_count": null,
   "metadata": {
    "collapsed": false
   },
   "outputs": [],
   "source": []
  },
  {
   "cell_type": "code",
   "execution_count": null,
   "metadata": {
    "collapsed": false
   },
   "outputs": [],
   "source": []
  },
  {
   "cell_type": "code",
   "execution_count": null,
   "metadata": {
    "collapsed": true
   },
   "outputs": [],
   "source": [
    "'''data1=pd.DataFrame.from_csv('/cellar/users/mkose/Downloads/GIST/Affy/GSE21315/GSE21315_exp.csv')\n",
    "#data1=np.log2(data1)\n",
    "data1=data1.sort()\n",
    "x=pd.DataFrame.from_csv('/cellar/users/mkose/Downloads/GIST/Affy/GSE21315/GPL6244-tbl-1.txt',sep='\\t')\n",
    "#x.loc['1007_s_at']=x.columns\n",
    "x=x.sort()\n",
    "data1.index=x['DDR1']\n",
    "data1.sort()\n",
    "data1.to_csv('/cellar/users/mkose/Downloads/GIST/Affy/GSE21315/GSE21315_exp.csv')'''"
   ]
  }
 ],
 "metadata": {
  "kernelspec": {
   "display_name": "Python 2",
   "language": "python",
   "name": "python2"
  },
  "language_info": {
   "codemirror_mode": {
    "name": "ipython",
    "version": 2
   },
   "file_extension": ".py",
   "mimetype": "text/x-python",
   "name": "python",
   "nbconvert_exporter": "python",
   "pygments_lexer": "ipython2",
   "version": "2.7.13"
  }
 },
 "nbformat": 4,
 "nbformat_minor": 0
}
